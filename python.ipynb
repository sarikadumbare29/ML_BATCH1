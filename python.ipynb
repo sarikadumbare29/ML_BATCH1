{
 "cells": [
  {
   "cell_type": "markdown",
   "id": "dd269caa",
   "metadata": {},
   "source": [
    "# How to connect database with jupyter notebook/Python"
   ]
  },
  {
   "cell_type": "code",
   "execution_count": null,
   "id": "9a2c4464",
   "metadata": {},
   "outputs": [],
   "source": [
    "# All the queries from jupyter notebook will be executed in your database"
   ]
  },
  {
   "cell_type": "code",
   "execution_count": null,
   "id": "282db098",
   "metadata": {},
   "outputs": [],
   "source": [
    "# Link to install mysql connector library\n",
    "https://dev.mysql.com/downloads/connector/python/8.0.html"
   ]
  },
  {
   "cell_type": "code",
   "execution_count": 1,
   "id": "2813b12b",
   "metadata": {},
   "outputs": [],
   "source": [
    "import mysql.connector as sql\n",
    "import pandas as pd"
   ]
  },
  {
   "cell_type": "code",
   "execution_count": null,
   "id": "84bc0ce6",
   "metadata": {},
   "outputs": [],
   "source": [
    "# Connect to database >> sql.connect function\n",
    "# use_pure >> Whenever we set it as true, whatever changes you make in\n",
    "# jupyter notebook that will get reflected in database"
   ]
  },
  {
   "cell_type": "code",
   "execution_count": 26,
   "id": "069fa208",
   "metadata": {},
   "outputs": [
    {
     "name": "stdout",
     "output_type": "stream",
     "text": [
      "<mysql.connector.connection.MySQLConnection object at 0x000001836DA2EA00>\n"
     ]
    }
   ],
   "source": [
    "# Create connection\n",
    "mydb=sql.connect(host='localhost',\n",
    "           user='root',\n",
    "           passwd='Pandurang26!',\n",
    "           use_pure= True)\n",
    "print(mydb)"
   ]
  },
  {
   "cell_type": "code",
   "execution_count": 15,
   "id": "8dfad20d",
   "metadata": {},
   "outputs": [
    {
     "name": "stdout",
     "output_type": "stream",
     "text": [
      "('db_april',)\n",
      "('db_jan',)\n",
      "('dec_weekdays',)\n",
      "('information_schema',)\n",
      "('mysql',)\n",
      "('performance_schema',)\n"
     ]
    }
   ],
   "source": [
    "# To show list of databases \n",
    "mycursor= mydb.cursor()   # cursor is like pointer to a memory location. we have to create mycursor object.\n",
    "mycursor.execute('show databases')    # my cursor execute function\n",
    "\n",
    "for db in mycursor:                   # use for loop to print multiple databases\n",
    "    print(db)"
   ]
  },
  {
   "cell_type": "code",
   "execution_count": 17,
   "id": "11628b82",
   "metadata": {},
   "outputs": [],
   "source": [
    "# Create new database \n",
    "\n",
    "mycursor.execute('create database db_april_new')"
   ]
  },
  {
   "cell_type": "code",
   "execution_count": 43,
   "id": "a6d733d9",
   "metadata": {},
   "outputs": [
    {
     "name": "stdout",
     "output_type": "stream",
     "text": [
      "<mysql.connector.connection.MySQLConnection object at 0x000001836E0877C0>\n"
     ]
    }
   ],
   "source": [
    "# To use database db_april\n",
    "mydb=sql.connect(host='localhost',\n",
    "           user='root',\n",
    "           passwd='Pandurang26!',\n",
    "           use_pure= True,\n",
    "           database='db_april')\n",
    "print(mydb)"
   ]
  },
  {
   "cell_type": "code",
   "execution_count": 36,
   "id": "d672bc76",
   "metadata": {},
   "outputs": [
    {
     "name": "stdout",
     "output_type": "stream",
     "text": [
      "('50_startups',)\n",
      "('50_startups_5rows',)\n",
      "('50_startups_cal',)\n",
      "('airpassengers',)\n",
      "('cars93',)\n",
      "('cars93_1to5',)\n",
      "('cars93_5to10',)\n",
      "('cars93_price20',)\n",
      "('course',)\n",
      "('dept',)\n",
      "('emp',)\n",
      "('emp1',)\n",
      "('emp2',)\n",
      "('emp3',)\n",
      "('emp_2',)\n",
      "('emp_ai',)\n",
      "('emp_chk',)\n",
      "('emp_data',)\n",
      "('emp_def',)\n",
      "('emp_null',)\n",
      "('emp_pri',)\n",
      "('emp_uniq',)\n",
      "('employee',)\n",
      "('employee1',)\n",
      "('inner_join',)\n",
      "('student',)\n",
      "('student1',)\n"
     ]
    }
   ],
   "source": [
    "# To show list of tables in  database db_april\n",
    "mycursor= mydb.cursor()\n",
    "\n",
    "mycursor.execute('show tables')\n",
    "for tbl in mycursor:\n",
    "    print(tbl)"
   ]
  },
  {
   "cell_type": "code",
   "execution_count": 39,
   "id": "f1d2e524",
   "metadata": {},
   "outputs": [
    {
     "name": "stdout",
     "output_type": "stream",
     "text": [
      "<mysql.connector.connection.MySQLConnection object at 0x000001836DB916D0>\n"
     ]
    }
   ],
   "source": [
    "# To use database db_april_new\n",
    "mydb=sql.connect(host='localhost',\n",
    "           user='root',\n",
    "           passwd='Pandurang26!',\n",
    "           use_pure= True,\n",
    "           database='db_april_new')\n",
    "print(mydb)"
   ]
  },
  {
   "cell_type": "code",
   "execution_count": 40,
   "id": "769f86fc",
   "metadata": {},
   "outputs": [
    {
     "name": "stdout",
     "output_type": "stream",
     "text": [
      "('emp1',)\n"
     ]
    }
   ],
   "source": [
    "# To show list of tables in  database db_april_new\n",
    "mycursor= mydb.cursor()\n",
    "\n",
    "mycursor.execute('show tables')\n",
    "for tbl in mycursor:\n",
    "    print(tbl)"
   ]
  },
  {
   "cell_type": "code",
   "execution_count": 41,
   "id": "7105ab12",
   "metadata": {},
   "outputs": [],
   "source": [
    "# create a table in db_april_new\n",
    "mycursor= mydb.cursor()\n",
    "\n",
    "mycursor.execute('create table emp2(empid int)')"
   ]
  },
  {
   "cell_type": "code",
   "execution_count": 44,
   "id": "1d5080a6",
   "metadata": {},
   "outputs": [
    {
     "data": {
      "text/html": [
       "<div>\n",
       "<style scoped>\n",
       "    .dataframe tbody tr th:only-of-type {\n",
       "        vertical-align: middle;\n",
       "    }\n",
       "\n",
       "    .dataframe tbody tr th {\n",
       "        vertical-align: top;\n",
       "    }\n",
       "\n",
       "    .dataframe thead th {\n",
       "        text-align: right;\n",
       "    }\n",
       "</style>\n",
       "<table border=\"1\" class=\"dataframe\">\n",
       "  <thead>\n",
       "    <tr style=\"text-align: right;\">\n",
       "      <th></th>\n",
       "      <th>emp_id</th>\n",
       "      <th>first_name</th>\n",
       "      <th>salary</th>\n",
       "      <th>location</th>\n",
       "      <th>joining_date</th>\n",
       "      <th>department_name</th>\n",
       "    </tr>\n",
       "  </thead>\n",
       "  <tbody>\n",
       "    <tr>\n",
       "      <th>0</th>\n",
       "      <td>1001</td>\n",
       "      <td>Mayur</td>\n",
       "      <td>50000</td>\n",
       "      <td>nashik</td>\n",
       "      <td>2014-12-11 09:00:00</td>\n",
       "      <td>Development</td>\n",
       "    </tr>\n",
       "    <tr>\n",
       "      <th>1</th>\n",
       "      <td>1002</td>\n",
       "      <td>Shrikant</td>\n",
       "      <td>60000</td>\n",
       "      <td>Pune</td>\n",
       "      <td>2014-12-11 09:00:00</td>\n",
       "      <td>Development</td>\n",
       "    </tr>\n",
       "    <tr>\n",
       "      <th>2</th>\n",
       "      <td>1003</td>\n",
       "      <td>Sagar</td>\n",
       "      <td>100000</td>\n",
       "      <td>Katraj</td>\n",
       "      <td>2014-12-12 09:00:00</td>\n",
       "      <td>HR</td>\n",
       "    </tr>\n",
       "    <tr>\n",
       "      <th>3</th>\n",
       "      <td>1004</td>\n",
       "      <td>Hemant</td>\n",
       "      <td>70000</td>\n",
       "      <td>Pimpri</td>\n",
       "      <td>2014-12-13 09:00:00</td>\n",
       "      <td>HR</td>\n",
       "    </tr>\n",
       "    <tr>\n",
       "      <th>4</th>\n",
       "      <td>1005</td>\n",
       "      <td>Suyog</td>\n",
       "      <td>65000</td>\n",
       "      <td>Wakad</td>\n",
       "      <td>2015-10-21 09:00:00</td>\n",
       "      <td>Accountant</td>\n",
       "    </tr>\n",
       "    <tr>\n",
       "      <th>5</th>\n",
       "      <td>1006</td>\n",
       "      <td>Sushil</td>\n",
       "      <td>50000</td>\n",
       "      <td>Nalstop</td>\n",
       "      <td>2015-10-15 09:00:00</td>\n",
       "      <td>Accountant</td>\n",
       "    </tr>\n",
       "    <tr>\n",
       "      <th>6</th>\n",
       "      <td>1007</td>\n",
       "      <td>Archana</td>\n",
       "      <td>50000</td>\n",
       "      <td>Kothrud</td>\n",
       "      <td>2031-03-23 09:00:00</td>\n",
       "      <td>Electronics</td>\n",
       "    </tr>\n",
       "  </tbody>\n",
       "</table>\n",
       "</div>"
      ],
      "text/plain": [
       "   emp_id first_name  salary location        joining_date department_name\n",
       "0    1001      Mayur   50000   nashik 2014-12-11 09:00:00     Development\n",
       "1    1002   Shrikant   60000     Pune 2014-12-11 09:00:00     Development\n",
       "2    1003      Sagar  100000   Katraj 2014-12-12 09:00:00              HR\n",
       "3    1004     Hemant   70000   Pimpri 2014-12-13 09:00:00              HR\n",
       "4    1005      Suyog   65000    Wakad 2015-10-21 09:00:00      Accountant\n",
       "5    1006     Sushil   50000  Nalstop 2015-10-15 09:00:00      Accountant\n",
       "6    1007    Archana   50000  Kothrud 2031-03-23 09:00:00     Electronics"
      ]
     },
     "execution_count": 44,
     "metadata": {},
     "output_type": "execute_result"
    }
   ],
   "source": [
    "# To execute any query > use function read_sql_query function of pandas library \n",
    "# This function will convert database output(table data) into dataframe\n",
    "\n",
    "mycursor= mydb.cursor()\n",
    "df=pd.read_sql_query('select * from employee',mydb)\n",
    "df"
   ]
  },
  {
   "cell_type": "code",
   "execution_count": null,
   "id": "bb302e76",
   "metadata": {},
   "outputs": [],
   "source": [
    "# syntax for read_sql_query (query,connection_name)"
   ]
  },
  {
   "cell_type": "code",
   "execution_count": 45,
   "id": "4d8a501d",
   "metadata": {},
   "outputs": [
    {
     "data": {
      "text/html": [
       "<div>\n",
       "<style scoped>\n",
       "    .dataframe tbody tr th:only-of-type {\n",
       "        vertical-align: middle;\n",
       "    }\n",
       "\n",
       "    .dataframe tbody tr th {\n",
       "        vertical-align: top;\n",
       "    }\n",
       "\n",
       "    .dataframe thead th {\n",
       "        text-align: right;\n",
       "    }\n",
       "</style>\n",
       "<table border=\"1\" class=\"dataframe\">\n",
       "  <thead>\n",
       "    <tr style=\"text-align: right;\">\n",
       "      <th></th>\n",
       "      <th>emp_id</th>\n",
       "      <th>first_name</th>\n",
       "      <th>salary</th>\n",
       "      <th>location</th>\n",
       "      <th>joining_date</th>\n",
       "      <th>department_name</th>\n",
       "    </tr>\n",
       "  </thead>\n",
       "  <tbody>\n",
       "    <tr>\n",
       "      <th>0</th>\n",
       "      <td>1002</td>\n",
       "      <td>Shrikant</td>\n",
       "      <td>60000</td>\n",
       "      <td>Pune</td>\n",
       "      <td>2014-12-11 09:00:00</td>\n",
       "      <td>Development</td>\n",
       "    </tr>\n",
       "    <tr>\n",
       "      <th>1</th>\n",
       "      <td>1003</td>\n",
       "      <td>Sagar</td>\n",
       "      <td>100000</td>\n",
       "      <td>Katraj</td>\n",
       "      <td>2014-12-12 09:00:00</td>\n",
       "      <td>HR</td>\n",
       "    </tr>\n",
       "    <tr>\n",
       "      <th>2</th>\n",
       "      <td>1004</td>\n",
       "      <td>Hemant</td>\n",
       "      <td>70000</td>\n",
       "      <td>Pimpri</td>\n",
       "      <td>2014-12-13 09:00:00</td>\n",
       "      <td>HR</td>\n",
       "    </tr>\n",
       "    <tr>\n",
       "      <th>3</th>\n",
       "      <td>1005</td>\n",
       "      <td>Suyog</td>\n",
       "      <td>65000</td>\n",
       "      <td>Wakad</td>\n",
       "      <td>2015-10-21 09:00:00</td>\n",
       "      <td>Accountant</td>\n",
       "    </tr>\n",
       "  </tbody>\n",
       "</table>\n",
       "</div>"
      ],
      "text/plain": [
       "   emp_id first_name  salary location        joining_date department_name\n",
       "0    1002   Shrikant   60000     Pune 2014-12-11 09:00:00     Development\n",
       "1    1003      Sagar  100000   Katraj 2014-12-12 09:00:00              HR\n",
       "2    1004     Hemant   70000   Pimpri 2014-12-13 09:00:00              HR\n",
       "3    1005      Suyog   65000    Wakad 2015-10-21 09:00:00      Accountant"
      ]
     },
     "execution_count": 45,
     "metadata": {},
     "output_type": "execute_result"
    }
   ],
   "source": [
    "df=pd.read_sql_query('select * from employee where salary>50000',mydb)\n",
    "df"
   ]
  },
  {
   "cell_type": "code",
   "execution_count": 47,
   "id": "5f847a47",
   "metadata": {},
   "outputs": [
    {
     "data": {
      "text/html": [
       "<div>\n",
       "<style scoped>\n",
       "    .dataframe tbody tr th:only-of-type {\n",
       "        vertical-align: middle;\n",
       "    }\n",
       "\n",
       "    .dataframe tbody tr th {\n",
       "        vertical-align: top;\n",
       "    }\n",
       "\n",
       "    .dataframe thead th {\n",
       "        text-align: right;\n",
       "    }\n",
       "</style>\n",
       "<table border=\"1\" class=\"dataframe\">\n",
       "  <thead>\n",
       "    <tr style=\"text-align: right;\">\n",
       "      <th></th>\n",
       "      <th>Type</th>\n",
       "    </tr>\n",
       "  </thead>\n",
       "  <tbody>\n",
       "    <tr>\n",
       "      <th>0</th>\n",
       "      <td>Small</td>\n",
       "    </tr>\n",
       "    <tr>\n",
       "      <th>1</th>\n",
       "      <td>Midsize</td>\n",
       "    </tr>\n",
       "    <tr>\n",
       "      <th>2</th>\n",
       "      <td>Compact</td>\n",
       "    </tr>\n",
       "    <tr>\n",
       "      <th>3</th>\n",
       "      <td>Midsize</td>\n",
       "    </tr>\n",
       "    <tr>\n",
       "      <th>4</th>\n",
       "      <td>Midsize</td>\n",
       "    </tr>\n",
       "    <tr>\n",
       "      <th>...</th>\n",
       "      <td>...</td>\n",
       "    </tr>\n",
       "    <tr>\n",
       "      <th>77</th>\n",
       "      <td>Small</td>\n",
       "    </tr>\n",
       "    <tr>\n",
       "      <th>78</th>\n",
       "      <td>Compact</td>\n",
       "    </tr>\n",
       "    <tr>\n",
       "      <th>79</th>\n",
       "      <td>Sporty</td>\n",
       "    </tr>\n",
       "    <tr>\n",
       "      <th>80</th>\n",
       "      <td>Compact</td>\n",
       "    </tr>\n",
       "    <tr>\n",
       "      <th>81</th>\n",
       "      <td>Midsize</td>\n",
       "    </tr>\n",
       "  </tbody>\n",
       "</table>\n",
       "<p>82 rows × 1 columns</p>\n",
       "</div>"
      ],
      "text/plain": [
       "       Type\n",
       "0     Small\n",
       "1   Midsize\n",
       "2   Compact\n",
       "3   Midsize\n",
       "4   Midsize\n",
       "..      ...\n",
       "77    Small\n",
       "78  Compact\n",
       "79   Sporty\n",
       "80  Compact\n",
       "81  Midsize\n",
       "\n",
       "[82 rows x 1 columns]"
      ]
     },
     "execution_count": 47,
     "metadata": {},
     "output_type": "execute_result"
    }
   ],
   "source": [
    "df=pd.read_sql_query('select Type from cars93',mydb)\n",
    "df"
   ]
  },
  {
   "cell_type": "code",
   "execution_count": 50,
   "id": "ce4b3aa7",
   "metadata": {},
   "outputs": [
    {
     "data": {
      "text/html": [
       "<div>\n",
       "<style scoped>\n",
       "    .dataframe tbody tr th:only-of-type {\n",
       "        vertical-align: middle;\n",
       "    }\n",
       "\n",
       "    .dataframe tbody tr th {\n",
       "        vertical-align: top;\n",
       "    }\n",
       "\n",
       "    .dataframe thead th {\n",
       "        text-align: right;\n",
       "    }\n",
       "</style>\n",
       "<table border=\"1\" class=\"dataframe\">\n",
       "  <thead>\n",
       "    <tr style=\"text-align: right;\">\n",
       "      <th></th>\n",
       "      <th>price</th>\n",
       "      <th>type</th>\n",
       "    </tr>\n",
       "  </thead>\n",
       "  <tbody>\n",
       "    <tr>\n",
       "      <th>0</th>\n",
       "      <td>61.9</td>\n",
       "      <td>Midsize</td>\n",
       "    </tr>\n",
       "    <tr>\n",
       "      <th>1</th>\n",
       "      <td>47.9</td>\n",
       "      <td>Midsize</td>\n",
       "    </tr>\n",
       "    <tr>\n",
       "      <th>2</th>\n",
       "      <td>40.1</td>\n",
       "      <td>Midsize</td>\n",
       "    </tr>\n",
       "    <tr>\n",
       "      <th>3</th>\n",
       "      <td>37.7</td>\n",
       "      <td>Midsize</td>\n",
       "    </tr>\n",
       "    <tr>\n",
       "      <th>4</th>\n",
       "      <td>36.1</td>\n",
       "      <td>Large</td>\n",
       "    </tr>\n",
       "    <tr>\n",
       "      <th>...</th>\n",
       "      <td>...</td>\n",
       "      <td>...</td>\n",
       "    </tr>\n",
       "    <tr>\n",
       "      <th>77</th>\n",
       "      <td>8.4</td>\n",
       "      <td>Small</td>\n",
       "    </tr>\n",
       "    <tr>\n",
       "      <th>78</th>\n",
       "      <td>8.4</td>\n",
       "      <td>Small</td>\n",
       "    </tr>\n",
       "    <tr>\n",
       "      <th>79</th>\n",
       "      <td>8.3</td>\n",
       "      <td>Small</td>\n",
       "    </tr>\n",
       "    <tr>\n",
       "      <th>80</th>\n",
       "      <td>8.0</td>\n",
       "      <td>Small</td>\n",
       "    </tr>\n",
       "    <tr>\n",
       "      <th>81</th>\n",
       "      <td>7.4</td>\n",
       "      <td>Small</td>\n",
       "    </tr>\n",
       "  </tbody>\n",
       "</table>\n",
       "<p>82 rows × 2 columns</p>\n",
       "</div>"
      ],
      "text/plain": [
       "    price     type\n",
       "0    61.9  Midsize\n",
       "1    47.9  Midsize\n",
       "2    40.1  Midsize\n",
       "3    37.7  Midsize\n",
       "4    36.1    Large\n",
       "..    ...      ...\n",
       "77    8.4    Small\n",
       "78    8.4    Small\n",
       "79    8.3    Small\n",
       "80    8.0    Small\n",
       "81    7.4    Small\n",
       "\n",
       "[82 rows x 2 columns]"
      ]
     },
     "execution_count": 50,
     "metadata": {},
     "output_type": "execute_result"
    }
   ],
   "source": [
    "df=pd.read_sql_query('select price,type from cars93 order by price desc',mydb)\n",
    "df"
   ]
  },
  {
   "cell_type": "code",
   "execution_count": 54,
   "id": "84d40e5a",
   "metadata": {},
   "outputs": [
    {
     "name": "stdout",
     "output_type": "stream",
     "text": [
      "<mysql.connector.connection.MySQLConnection object at 0x000001836E17A220>\n"
     ]
    }
   ],
   "source": [
    "# To use database db_april\n",
    "mydb=sql.connect(host='localhost',\n",
    "           user='root',\n",
    "           passwd='Pandurang26!',\n",
    "           use_pure= True,\n",
    "           database='db_april_new')\n",
    "print(mydb)"
   ]
  },
  {
   "cell_type": "code",
   "execution_count": 55,
   "id": "2f9027c3",
   "metadata": {},
   "outputs": [
    {
     "data": {
      "text/html": [
       "<div>\n",
       "<style scoped>\n",
       "    .dataframe tbody tr th:only-of-type {\n",
       "        vertical-align: middle;\n",
       "    }\n",
       "\n",
       "    .dataframe tbody tr th {\n",
       "        vertical-align: top;\n",
       "    }\n",
       "\n",
       "    .dataframe thead th {\n",
       "        text-align: right;\n",
       "    }\n",
       "</style>\n",
       "<table border=\"1\" class=\"dataframe\">\n",
       "  <thead>\n",
       "    <tr style=\"text-align: right;\">\n",
       "      <th></th>\n",
       "      <th>empid</th>\n",
       "    </tr>\n",
       "  </thead>\n",
       "  <tbody>\n",
       "    <tr>\n",
       "      <th>0</th>\n",
       "      <td>1001</td>\n",
       "    </tr>\n",
       "    <tr>\n",
       "      <th>1</th>\n",
       "      <td>1002</td>\n",
       "    </tr>\n",
       "  </tbody>\n",
       "</table>\n",
       "</div>"
      ],
      "text/plain": [
       "   empid\n",
       "0   1001\n",
       "1   1002"
      ]
     },
     "execution_count": 55,
     "metadata": {},
     "output_type": "execute_result"
    }
   ],
   "source": [
    "df=pd.read_sql_query('select * from emp1',mydb)\n",
    "df"
   ]
  }
 ],
 "metadata": {
  "kernelspec": {
   "display_name": "Python 3 (ipykernel)",
   "language": "python",
   "name": "python3"
  },
  "language_info": {
   "codemirror_mode": {
    "name": "ipython",
    "version": 3
   },
   "file_extension": ".py",
   "mimetype": "text/x-python",
   "name": "python",
   "nbconvert_exporter": "python",
   "pygments_lexer": "ipython3",
   "version": "3.9.7"
  }
 },
 "nbformat": 4,
 "nbformat_minor": 5
}
